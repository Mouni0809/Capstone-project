{
 "cells": [
  {
   "cell_type": "code",
   "execution_count": 6,
   "id": "d4e579c2",
   "metadata": {},
   "outputs": [],
   "source": [
    "from homeharvest import scrape_property\n",
    "from datetime import datetime"
   ]
  },
  {
   "cell_type": "code",
   "execution_count": 7,
   "id": "b9079a18",
   "metadata": {},
   "outputs": [
    {
     "name": "stdout",
     "output_type": "stream",
     "text": [
      "Number of properties: 3285\n",
      "                                        property_url   mls    mls_id  \\\n",
      "0  https://www.realtor.com/realestateandhomes-det...  RENT     18294   \n",
      "1  https://www.realtor.com/realestateandhomes-det...  TUAZ  22403200   \n",
      "2  https://www.realtor.com/realestateandhomes-det...  RNTL   4493351   \n",
      "3  https://www.realtor.com/realestateandhomes-det...  PHAZ   6661183   \n",
      "4  https://www.realtor.com/realestateandhomes-det...  PHAZ   6661171   \n",
      "\n",
      "     status          style                 street     unit        city state  \\\n",
      "0  FOR_RENT      APARTMENT        9410 N 31st Ave     None     Phoenix    AZ   \n",
      "1  FOR_RENT      TOWNHOMES   1255 E Weimer Ci Cir  Unit 74      Tucson    AZ   \n",
      "2  FOR_RENT  SINGLE_FAMILY      37558 W Merced St     None    Maricopa    AZ   \n",
      "3  FOR_RENT  SINGLE_FAMILY  11650 E Four Peaks Rd     None  Scottsdale    AZ   \n",
      "4  FOR_RENT  SINGLE_FAMILY       15301 N 138th Ln     None    Surprise    AZ   \n",
      "\n",
      "  zip_code  ... last_sold_date lot_sqft price_per_sqft   latitude   longitude  \\\n",
      "0    85051  ...     2017-10-25     None           None  33.571482 -112.125882   \n",
      "1    85719  ...           None     9890              1  32.280041 -110.954117   \n",
      "2    85138  ...     2020-05-29     None              1  33.054546 -111.970880   \n",
      "3    85262  ...     2020-07-09    44867              2  33.730206 -111.830147   \n",
      "4    85379  ...     2015-08-31     7498              1  33.623081 -112.358035   \n",
      "\n",
      "   stories hoa_fee parking_garage  \\\n",
      "0     None    None           None   \n",
      "1     None    None              2   \n",
      "2     None    None           None   \n",
      "3        2    None              4   \n",
      "4        1    None              2   \n",
      "\n",
      "                                       primary_photo  \\\n",
      "0  http://ar.rdcpix.com/f6af17ac26cb4310d91e2be0d...   \n",
      "1  http://ap.rdcpix.com/6686e52985a3f23fc2888e3ee...   \n",
      "2  http://ap.rdcpix.com/d552b975e373c221fdca3ab5f...   \n",
      "3  http://ap.rdcpix.com/ba9bbfd1d191097ac31508e51...   \n",
      "4  http://ap.rdcpix.com/5356625ddea8d1c09be2d4b9d...   \n",
      "\n",
      "                                          alt_photos  \n",
      "0  http://ar.rdcpix.com/f6af17ac26cb4310d91e2be0d...  \n",
      "1  http://ap.rdcpix.com/6686e52985a3f23fc2888e3ee...  \n",
      "2  http://ap.rdcpix.com/d552b975e373c221fdca3ab5f...  \n",
      "3  http://ap.rdcpix.com/ba9bbfd1d191097ac31508e51...  \n",
      "4  http://ap.rdcpix.com/5356625ddea8d1c09be2d4b9d...  \n",
      "\n",
      "[5 rows x 29 columns]\n"
     ]
    }
   ],
   "source": [
    "filename = \"arizona.csv\"\n",
    "\n",
    "properties = scrape_property(\n",
    "    location=\"arizona\",\n",
    "    past_days=30,  # \n",
    "    listing_type=\"for_rent\",  \n",
    "\n",
    ")\n",
    "print(f\"Number of properties: {len(properties)}\")\n",
    "\n",
    "# Export to csv\n",
    "properties.to_csv(filename, index=False)\n",
    "print(properties.head())"
   ]
  },
  {
   "cell_type": "code",
   "execution_count": null,
   "id": "9a37acb8",
   "metadata": {},
   "outputs": [],
   "source": []
  }
 ],
 "metadata": {
  "kernelspec": {
   "display_name": "Python 3 (ipykernel)",
   "language": "python",
   "name": "python3"
  },
  "language_info": {
   "codemirror_mode": {
    "name": "ipython",
    "version": 3
   },
   "file_extension": ".py",
   "mimetype": "text/x-python",
   "name": "python",
   "nbconvert_exporter": "python",
   "pygments_lexer": "ipython3",
   "version": "3.9.13"
  }
 },
 "nbformat": 4,
 "nbformat_minor": 5
}
